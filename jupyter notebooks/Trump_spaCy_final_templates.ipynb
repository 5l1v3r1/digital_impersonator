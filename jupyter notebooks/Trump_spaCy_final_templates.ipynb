{
 "cells": [
  {
   "cell_type": "markdown",
   "metadata": {},
   "source": [
    "### Using spaCy 's built in dependencies, we can create \"syntactically\" correct sentences based on different templates.\n",
    "- These templates are created to be short, in order to fit on an image and be considered \"a meme\"\n"
   ]
  },
  {
   "cell_type": "code",
   "execution_count": 1,
   "metadata": {},
   "outputs": [],
   "source": [
    "import spacy\n",
    "import pandas as pd\n",
    "from pprint import pprint\n",
    "from spacy import displacy\n",
    "from collections import Counter\n",
    "import en_core_web_sm\n",
    "nlp = en_core_web_sm.load()\n",
    "import random\n",
    "import matplotlib.pyplot as plt\n",
    "\n",
    "pd.set_option('max_colwidth', 120)\n",
    "import warnings\n",
    "warnings.filterwarnings('ignore')"
   ]
  },
  {
   "cell_type": "markdown",
   "metadata": {},
   "source": [
    "For SpaCy:\n",
    "- instantiate a doc with a variable = nlp()\n",
    "- then we can use the tokens to: traverse the dependency tree, get parts of speech, entities, dependency labels etc.\n",
    "- use random to select from a list (non-unique values) or from the keys of a counter class, if needed"
   ]
  },
  {
   "cell_type": "markdown",
   "metadata": {},
   "source": [
    "Importing the tweets and cleaning them - with regex expressions or not, then keep only the text field"
   ]
  },
  {
   "cell_type": "code",
   "execution_count": 3,
   "metadata": {},
   "outputs": [],
   "source": [
    "tw = pd.read_csv(\"tweets_trump1.csv\", low_memory = False)\n",
    "tw = tw[tw[\"screen_name\"] == \"realDonaldTrump\"]\n",
    "tweets = tw[[\"screen_name\", \"text\"]]\n",
    "tweets[\"text\"] = tweets[\"text\"].replace(r'http\\S+', '', regex=True).replace(r'www\\S+', '', regex=True)\n",
    "tweets[\"text\"] = tweets[\"text\"].replace(r'https?:\\/\\/.*[\\r\\n]*', '', regex=True).replace(r'www\\S+', '', regex=True)\n",
    "tweets[\"text\"] = tweets[\"text\"].replace(r'RT @\\S+:', '', regex = True)\n",
    "tweets[\"text\"] = tweets[\"text\"].replace(r'[_\"\\-;%()|.,+&=*%]', '', regex = True)\n",
    "tweets[\"text\"] = tweets[\"text\"].replace(r'@\\s+', '', regex=True)\n",
    "tweets[\"text\"] = tweets[\"text\"].replace(r'@\\S+', '', regex=True)\n",
    "tweets[\"text\"] = tweets[\"text\"].replace(r'&amp', 'and', regex=True)\n",
    "tweets[\"text\"] = tweets[\"text\"].str.replace(\".@\", \"@\")\n",
    "tweets[\"text\"] = tweets[\"text\"].replace(r'\\n','', regex=True)\n",
    "tweets[\"text\"] = tweets[\"text\"].str.replace(\"w/\", \"with\")\n",
    "tweets[\"text\"] = tweets[\"text\"].str.replace(\"- \", \"\")\n",
    "tweets[\"text\"] = tweets[\"text\"].str.replace(\"--\", \"\")\n",
    "tweets[\"text\"] = tweets[\"text\"].str.replace(\"RE:\", \"\")\n",
    "tweets[\"text\"] = tweets[\"text\"].str.replace('(&amp)', '')\n",
    "#tweets[\"text\"] = tweets[\"text\"].str.replace(r\"(?:\\#+[\\w_]+[\\w\\'_\\-]*[\\w_]+)\", \"\")\n",
    "tweets[\"text\"] = tweets[\"text\"].replace('\\n', ' ').replace('\\r', '')"
   ]
  },
  {
   "cell_type": "code",
   "execution_count": 4,
   "metadata": {},
   "outputs": [],
   "source": [
    "tweets1 = tweets[\"text\"]"
   ]
  },
  {
   "cell_type": "code",
   "execution_count": 5,
   "metadata": {},
   "outputs": [
    {
     "data": {
      "text/plain": [
       "(32807,)"
      ]
     },
     "execution_count": 5,
     "metadata": {},
     "output_type": "execute_result"
    }
   ],
   "source": [
    "# tweets shape of the column\n",
    "tweets1.shape"
   ]
  },
  {
   "cell_type": "code",
   "execution_count": 66,
   "metadata": {},
   "outputs": [],
   "source": [
    "#tweets[:12]"
   ]
  },
  {
   "cell_type": "code",
   "execution_count": 7,
   "metadata": {},
   "outputs": [],
   "source": [
    "# transform the tweets to strings to be read by spaCy\n",
    "tweets2 = tweets1.to_string(header=False, index=False)\n",
    "tweets2 = tweets2.replace('\\n', ' ').replace('\\r', '').strip()"
   ]
  },
  {
   "cell_type": "markdown",
   "metadata": {},
   "source": [
    "visualize with displacy how the dependencies look on a sample"
   ]
  },
  {
   "cell_type": "code",
   "execution_count": 8,
   "metadata": {},
   "outputs": [
    {
     "data": {
      "text/plain": [
       "  going to watching Canadian Open this week?Maybe few tour players will visit Trump Toronto!  Great!"
      ]
     },
     "execution_count": 8,
     "metadata": {},
     "output_type": "execute_result"
    }
   ],
   "source": [
    "doc =  nlp(tweets1.sample().values[0])\n",
    "doc"
   ]
  },
  {
   "cell_type": "code",
   "execution_count": 9,
   "metadata": {},
   "outputs": [
    {
     "data": {
      "text/html": [
       "<svg xmlns=\"http://www.w3.org/2000/svg\" xmlns:xlink=\"http://www.w3.org/1999/xlink\" id=\"450-0\" class=\"displacy\" width=\"1580\" height=\"317.0\" style=\"max-width: none; height: 317.0px; color: #000000; background: #ffffff; font-family: Arial\">\n",
       "<text class=\"displacy-token\" fill=\"currentColor\" text-anchor=\"middle\" y=\"227.0\">\n",
       "    <tspan class=\"displacy-word\" fill=\"currentColor\" x=\"50\">  </tspan>\n",
       "    <tspan class=\"displacy-tag\" dy=\"2em\" fill=\"currentColor\" x=\"50\">SPACE</tspan>\n",
       "</text>\n",
       "\n",
       "<text class=\"displacy-token\" fill=\"currentColor\" text-anchor=\"middle\" y=\"227.0\">\n",
       "    <tspan class=\"displacy-word\" fill=\"currentColor\" x=\"140\">going</tspan>\n",
       "    <tspan class=\"displacy-tag\" dy=\"2em\" fill=\"currentColor\" x=\"140\">VERB</tspan>\n",
       "</text>\n",
       "\n",
       "<text class=\"displacy-token\" fill=\"currentColor\" text-anchor=\"middle\" y=\"227.0\">\n",
       "    <tspan class=\"displacy-word\" fill=\"currentColor\" x=\"230\">to</tspan>\n",
       "    <tspan class=\"displacy-tag\" dy=\"2em\" fill=\"currentColor\" x=\"230\">ADP</tspan>\n",
       "</text>\n",
       "\n",
       "<text class=\"displacy-token\" fill=\"currentColor\" text-anchor=\"middle\" y=\"227.0\">\n",
       "    <tspan class=\"displacy-word\" fill=\"currentColor\" x=\"320\">watching</tspan>\n",
       "    <tspan class=\"displacy-tag\" dy=\"2em\" fill=\"currentColor\" x=\"320\">VERB</tspan>\n",
       "</text>\n",
       "\n",
       "<text class=\"displacy-token\" fill=\"currentColor\" text-anchor=\"middle\" y=\"227.0\">\n",
       "    <tspan class=\"displacy-word\" fill=\"currentColor\" x=\"410\">Canadian</tspan>\n",
       "    <tspan class=\"displacy-tag\" dy=\"2em\" fill=\"currentColor\" x=\"410\">PROPN</tspan>\n",
       "</text>\n",
       "\n",
       "<text class=\"displacy-token\" fill=\"currentColor\" text-anchor=\"middle\" y=\"227.0\">\n",
       "    <tspan class=\"displacy-word\" fill=\"currentColor\" x=\"500\">Open</tspan>\n",
       "    <tspan class=\"displacy-tag\" dy=\"2em\" fill=\"currentColor\" x=\"500\">VERB</tspan>\n",
       "</text>\n",
       "\n",
       "<text class=\"displacy-token\" fill=\"currentColor\" text-anchor=\"middle\" y=\"227.0\">\n",
       "    <tspan class=\"displacy-word\" fill=\"currentColor\" x=\"590\">this</tspan>\n",
       "    <tspan class=\"displacy-tag\" dy=\"2em\" fill=\"currentColor\" x=\"590\">DET</tspan>\n",
       "</text>\n",
       "\n",
       "<text class=\"displacy-token\" fill=\"currentColor\" text-anchor=\"middle\" y=\"227.0\">\n",
       "    <tspan class=\"displacy-word\" fill=\"currentColor\" x=\"680\">week?Maybe</tspan>\n",
       "    <tspan class=\"displacy-tag\" dy=\"2em\" fill=\"currentColor\" x=\"680\">DET</tspan>\n",
       "</text>\n",
       "\n",
       "<text class=\"displacy-token\" fill=\"currentColor\" text-anchor=\"middle\" y=\"227.0\">\n",
       "    <tspan class=\"displacy-word\" fill=\"currentColor\" x=\"770\">few</tspan>\n",
       "    <tspan class=\"displacy-tag\" dy=\"2em\" fill=\"currentColor\" x=\"770\">ADJ</tspan>\n",
       "</text>\n",
       "\n",
       "<text class=\"displacy-token\" fill=\"currentColor\" text-anchor=\"middle\" y=\"227.0\">\n",
       "    <tspan class=\"displacy-word\" fill=\"currentColor\" x=\"860\">tour</tspan>\n",
       "    <tspan class=\"displacy-tag\" dy=\"2em\" fill=\"currentColor\" x=\"860\">NOUN</tspan>\n",
       "</text>\n",
       "\n",
       "<text class=\"displacy-token\" fill=\"currentColor\" text-anchor=\"middle\" y=\"227.0\">\n",
       "    <tspan class=\"displacy-word\" fill=\"currentColor\" x=\"950\">players</tspan>\n",
       "    <tspan class=\"displacy-tag\" dy=\"2em\" fill=\"currentColor\" x=\"950\">NOUN</tspan>\n",
       "</text>\n",
       "\n",
       "<text class=\"displacy-token\" fill=\"currentColor\" text-anchor=\"middle\" y=\"227.0\">\n",
       "    <tspan class=\"displacy-word\" fill=\"currentColor\" x=\"1040\">will</tspan>\n",
       "    <tspan class=\"displacy-tag\" dy=\"2em\" fill=\"currentColor\" x=\"1040\">VERB</tspan>\n",
       "</text>\n",
       "\n",
       "<text class=\"displacy-token\" fill=\"currentColor\" text-anchor=\"middle\" y=\"227.0\">\n",
       "    <tspan class=\"displacy-word\" fill=\"currentColor\" x=\"1130\">visit</tspan>\n",
       "    <tspan class=\"displacy-tag\" dy=\"2em\" fill=\"currentColor\" x=\"1130\">VERB</tspan>\n",
       "</text>\n",
       "\n",
       "<text class=\"displacy-token\" fill=\"currentColor\" text-anchor=\"middle\" y=\"227.0\">\n",
       "    <tspan class=\"displacy-word\" fill=\"currentColor\" x=\"1220\">Trump</tspan>\n",
       "    <tspan class=\"displacy-tag\" dy=\"2em\" fill=\"currentColor\" x=\"1220\">PROPN</tspan>\n",
       "</text>\n",
       "\n",
       "<text class=\"displacy-token\" fill=\"currentColor\" text-anchor=\"middle\" y=\"227.0\">\n",
       "    <tspan class=\"displacy-word\" fill=\"currentColor\" x=\"1310\">Toronto!</tspan>\n",
       "    <tspan class=\"displacy-tag\" dy=\"2em\" fill=\"currentColor\" x=\"1310\">PROPN</tspan>\n",
       "</text>\n",
       "\n",
       "<text class=\"displacy-token\" fill=\"currentColor\" text-anchor=\"middle\" y=\"227.0\">\n",
       "    <tspan class=\"displacy-word\" fill=\"currentColor\" x=\"1400\"> </tspan>\n",
       "    <tspan class=\"displacy-tag\" dy=\"2em\" fill=\"currentColor\" x=\"1400\"></tspan>\n",
       "</text>\n",
       "\n",
       "<text class=\"displacy-token\" fill=\"currentColor\" text-anchor=\"middle\" y=\"227.0\">\n",
       "    <tspan class=\"displacy-word\" fill=\"currentColor\" x=\"1490\">Great!</tspan>\n",
       "    <tspan class=\"displacy-tag\" dy=\"2em\" fill=\"currentColor\" x=\"1490\">PROPN</tspan>\n",
       "</text>\n",
       "\n",
       "<g class=\"displacy-arrow\">\n",
       "    <path class=\"displacy-arc\" id=\"arrow-450-0-0\" stroke-width=\"2px\" d=\"M70,182.0 C70,137.0 125.0,137.0 125.0,182.0\" fill=\"none\" stroke=\"currentColor\"/>\n",
       "    <text dy=\"1.25em\" style=\"font-size: 0.8em; letter-spacing: 1px\">\n",
       "        <textPath xlink:href=\"#arrow-450-0-0\" class=\"displacy-label\" startOffset=\"50%\" fill=\"currentColor\" text-anchor=\"middle\"></textPath>\n",
       "    </text>\n",
       "    <path class=\"displacy-arrowhead\" d=\"M70,184.0 L62,172.0 78,172.0\" fill=\"currentColor\"/>\n",
       "</g>\n",
       "\n",
       "<g class=\"displacy-arrow\">\n",
       "    <path class=\"displacy-arc\" id=\"arrow-450-0-1\" stroke-width=\"2px\" d=\"M160,182.0 C160,137.0 215.0,137.0 215.0,182.0\" fill=\"none\" stroke=\"currentColor\"/>\n",
       "    <text dy=\"1.25em\" style=\"font-size: 0.8em; letter-spacing: 1px\">\n",
       "        <textPath xlink:href=\"#arrow-450-0-1\" class=\"displacy-label\" startOffset=\"50%\" fill=\"currentColor\" text-anchor=\"middle\">prep</textPath>\n",
       "    </text>\n",
       "    <path class=\"displacy-arrowhead\" d=\"M215.0,184.0 L223.0,172.0 207.0,172.0\" fill=\"currentColor\"/>\n",
       "</g>\n",
       "\n",
       "<g class=\"displacy-arrow\">\n",
       "    <path class=\"displacy-arc\" id=\"arrow-450-0-2\" stroke-width=\"2px\" d=\"M250,182.0 C250,137.0 305.0,137.0 305.0,182.0\" fill=\"none\" stroke=\"currentColor\"/>\n",
       "    <text dy=\"1.25em\" style=\"font-size: 0.8em; letter-spacing: 1px\">\n",
       "        <textPath xlink:href=\"#arrow-450-0-2\" class=\"displacy-label\" startOffset=\"50%\" fill=\"currentColor\" text-anchor=\"middle\">pcomp</textPath>\n",
       "    </text>\n",
       "    <path class=\"displacy-arrowhead\" d=\"M305.0,184.0 L313.0,172.0 297.0,172.0\" fill=\"currentColor\"/>\n",
       "</g>\n",
       "\n",
       "<g class=\"displacy-arrow\">\n",
       "    <path class=\"displacy-arc\" id=\"arrow-450-0-3\" stroke-width=\"2px\" d=\"M430,182.0 C430,137.0 485.0,137.0 485.0,182.0\" fill=\"none\" stroke=\"currentColor\"/>\n",
       "    <text dy=\"1.25em\" style=\"font-size: 0.8em; letter-spacing: 1px\">\n",
       "        <textPath xlink:href=\"#arrow-450-0-3\" class=\"displacy-label\" startOffset=\"50%\" fill=\"currentColor\" text-anchor=\"middle\">amod</textPath>\n",
       "    </text>\n",
       "    <path class=\"displacy-arrowhead\" d=\"M430,184.0 L422,172.0 438,172.0\" fill=\"currentColor\"/>\n",
       "</g>\n",
       "\n",
       "<g class=\"displacy-arrow\">\n",
       "    <path class=\"displacy-arc\" id=\"arrow-450-0-4\" stroke-width=\"2px\" d=\"M340,182.0 C340,92.0 490.0,92.0 490.0,182.0\" fill=\"none\" stroke=\"currentColor\"/>\n",
       "    <text dy=\"1.25em\" style=\"font-size: 0.8em; letter-spacing: 1px\">\n",
       "        <textPath xlink:href=\"#arrow-450-0-4\" class=\"displacy-label\" startOffset=\"50%\" fill=\"currentColor\" text-anchor=\"middle\">ccomp</textPath>\n",
       "    </text>\n",
       "    <path class=\"displacy-arrowhead\" d=\"M490.0,184.0 L498.0,172.0 482.0,172.0\" fill=\"currentColor\"/>\n",
       "</g>\n",
       "\n",
       "<g class=\"displacy-arrow\">\n",
       "    <path class=\"displacy-arc\" id=\"arrow-450-0-5\" stroke-width=\"2px\" d=\"M610,182.0 C610,47.0 945.0,47.0 945.0,182.0\" fill=\"none\" stroke=\"currentColor\"/>\n",
       "    <text dy=\"1.25em\" style=\"font-size: 0.8em; letter-spacing: 1px\">\n",
       "        <textPath xlink:href=\"#arrow-450-0-5\" class=\"displacy-label\" startOffset=\"50%\" fill=\"currentColor\" text-anchor=\"middle\">det</textPath>\n",
       "    </text>\n",
       "    <path class=\"displacy-arrowhead\" d=\"M610,184.0 L602,172.0 618,172.0\" fill=\"currentColor\"/>\n",
       "</g>\n",
       "\n",
       "<g class=\"displacy-arrow\">\n",
       "    <path class=\"displacy-arc\" id=\"arrow-450-0-6\" stroke-width=\"2px\" d=\"M700,182.0 C700,137.0 755.0,137.0 755.0,182.0\" fill=\"none\" stroke=\"currentColor\"/>\n",
       "    <text dy=\"1.25em\" style=\"font-size: 0.8em; letter-spacing: 1px\">\n",
       "        <textPath xlink:href=\"#arrow-450-0-6\" class=\"displacy-label\" startOffset=\"50%\" fill=\"currentColor\" text-anchor=\"middle\">advmod</textPath>\n",
       "    </text>\n",
       "    <path class=\"displacy-arrowhead\" d=\"M700,184.0 L692,172.0 708,172.0\" fill=\"currentColor\"/>\n",
       "</g>\n",
       "\n",
       "<g class=\"displacy-arrow\">\n",
       "    <path class=\"displacy-arc\" id=\"arrow-450-0-7\" stroke-width=\"2px\" d=\"M790,182.0 C790,92.0 940.0,92.0 940.0,182.0\" fill=\"none\" stroke=\"currentColor\"/>\n",
       "    <text dy=\"1.25em\" style=\"font-size: 0.8em; letter-spacing: 1px\">\n",
       "        <textPath xlink:href=\"#arrow-450-0-7\" class=\"displacy-label\" startOffset=\"50%\" fill=\"currentColor\" text-anchor=\"middle\">amod</textPath>\n",
       "    </text>\n",
       "    <path class=\"displacy-arrowhead\" d=\"M790,184.0 L782,172.0 798,172.0\" fill=\"currentColor\"/>\n",
       "</g>\n",
       "\n",
       "<g class=\"displacy-arrow\">\n",
       "    <path class=\"displacy-arc\" id=\"arrow-450-0-8\" stroke-width=\"2px\" d=\"M880,182.0 C880,137.0 935.0,137.0 935.0,182.0\" fill=\"none\" stroke=\"currentColor\"/>\n",
       "    <text dy=\"1.25em\" style=\"font-size: 0.8em; letter-spacing: 1px\">\n",
       "        <textPath xlink:href=\"#arrow-450-0-8\" class=\"displacy-label\" startOffset=\"50%\" fill=\"currentColor\" text-anchor=\"middle\">compound</textPath>\n",
       "    </text>\n",
       "    <path class=\"displacy-arrowhead\" d=\"M880,184.0 L872,172.0 888,172.0\" fill=\"currentColor\"/>\n",
       "</g>\n",
       "\n",
       "<g class=\"displacy-arrow\">\n",
       "    <path class=\"displacy-arc\" id=\"arrow-450-0-9\" stroke-width=\"2px\" d=\"M970,182.0 C970,92.0 1120.0,92.0 1120.0,182.0\" fill=\"none\" stroke=\"currentColor\"/>\n",
       "    <text dy=\"1.25em\" style=\"font-size: 0.8em; letter-spacing: 1px\">\n",
       "        <textPath xlink:href=\"#arrow-450-0-9\" class=\"displacy-label\" startOffset=\"50%\" fill=\"currentColor\" text-anchor=\"middle\">nsubj</textPath>\n",
       "    </text>\n",
       "    <path class=\"displacy-arrowhead\" d=\"M970,184.0 L962,172.0 978,172.0\" fill=\"currentColor\"/>\n",
       "</g>\n",
       "\n",
       "<g class=\"displacy-arrow\">\n",
       "    <path class=\"displacy-arc\" id=\"arrow-450-0-10\" stroke-width=\"2px\" d=\"M1060,182.0 C1060,137.0 1115.0,137.0 1115.0,182.0\" fill=\"none\" stroke=\"currentColor\"/>\n",
       "    <text dy=\"1.25em\" style=\"font-size: 0.8em; letter-spacing: 1px\">\n",
       "        <textPath xlink:href=\"#arrow-450-0-10\" class=\"displacy-label\" startOffset=\"50%\" fill=\"currentColor\" text-anchor=\"middle\">aux</textPath>\n",
       "    </text>\n",
       "    <path class=\"displacy-arrowhead\" d=\"M1060,184.0 L1052,172.0 1068,172.0\" fill=\"currentColor\"/>\n",
       "</g>\n",
       "\n",
       "<g class=\"displacy-arrow\">\n",
       "    <path class=\"displacy-arc\" id=\"arrow-450-0-11\" stroke-width=\"2px\" d=\"M160,182.0 C160,2.0 1130.0,2.0 1130.0,182.0\" fill=\"none\" stroke=\"currentColor\"/>\n",
       "    <text dy=\"1.25em\" style=\"font-size: 0.8em; letter-spacing: 1px\">\n",
       "        <textPath xlink:href=\"#arrow-450-0-11\" class=\"displacy-label\" startOffset=\"50%\" fill=\"currentColor\" text-anchor=\"middle\">ccomp</textPath>\n",
       "    </text>\n",
       "    <path class=\"displacy-arrowhead\" d=\"M1130.0,184.0 L1138.0,172.0 1122.0,172.0\" fill=\"currentColor\"/>\n",
       "</g>\n",
       "\n",
       "<g class=\"displacy-arrow\">\n",
       "    <path class=\"displacy-arc\" id=\"arrow-450-0-12\" stroke-width=\"2px\" d=\"M1240,182.0 C1240,137.0 1295.0,137.0 1295.0,182.0\" fill=\"none\" stroke=\"currentColor\"/>\n",
       "    <text dy=\"1.25em\" style=\"font-size: 0.8em; letter-spacing: 1px\">\n",
       "        <textPath xlink:href=\"#arrow-450-0-12\" class=\"displacy-label\" startOffset=\"50%\" fill=\"currentColor\" text-anchor=\"middle\">compound</textPath>\n",
       "    </text>\n",
       "    <path class=\"displacy-arrowhead\" d=\"M1240,184.0 L1232,172.0 1248,172.0\" fill=\"currentColor\"/>\n",
       "</g>\n",
       "\n",
       "<g class=\"displacy-arrow\">\n",
       "    <path class=\"displacy-arc\" id=\"arrow-450-0-13\" stroke-width=\"2px\" d=\"M1150,182.0 C1150,92.0 1300.0,92.0 1300.0,182.0\" fill=\"none\" stroke=\"currentColor\"/>\n",
       "    <text dy=\"1.25em\" style=\"font-size: 0.8em; letter-spacing: 1px\">\n",
       "        <textPath xlink:href=\"#arrow-450-0-13\" class=\"displacy-label\" startOffset=\"50%\" fill=\"currentColor\" text-anchor=\"middle\">dobj</textPath>\n",
       "    </text>\n",
       "    <path class=\"displacy-arrowhead\" d=\"M1300.0,184.0 L1308.0,172.0 1292.0,172.0\" fill=\"currentColor\"/>\n",
       "</g>\n",
       "\n",
       "<g class=\"displacy-arrow\">\n",
       "    <path class=\"displacy-arc\" id=\"arrow-450-0-14\" stroke-width=\"2px\" d=\"M1330,182.0 C1330,137.0 1385.0,137.0 1385.0,182.0\" fill=\"none\" stroke=\"currentColor\"/>\n",
       "    <text dy=\"1.25em\" style=\"font-size: 0.8em; letter-spacing: 1px\">\n",
       "        <textPath xlink:href=\"#arrow-450-0-14\" class=\"displacy-label\" startOffset=\"50%\" fill=\"currentColor\" text-anchor=\"middle\"></textPath>\n",
       "    </text>\n",
       "    <path class=\"displacy-arrowhead\" d=\"M1385.0,184.0 L1393.0,172.0 1377.0,172.0\" fill=\"currentColor\"/>\n",
       "</g>\n",
       "</svg>"
      ],
      "text/plain": [
       "<IPython.core.display.HTML object>"
      ]
     },
     "metadata": {},
     "output_type": "display_data"
    }
   ],
   "source": [
    "displacy.render(doc, style=\"dep\", jupyter=True, options={'distance': 90})"
   ]
  },
  {
   "cell_type": "code",
   "execution_count": 10,
   "metadata": {},
   "outputs": [],
   "source": [
    "# split the tweets since the spaCy parser cannot work on a huge corpus\n",
    "tweets3 = tweets2[0:1000000]\n",
    "doc = nlp(tweets3)\n",
    "doc1 = nlp(tweets2[1000000:2000000])\n",
    "doc2 = nlp(tweets2[2000000:3000000])\n",
    "doc3 = nlp(tweets2[3000000:4000000])\n",
    "\n",
    "# list of docs\n",
    "docs = [doc, doc1, doc2, doc3]"
   ]
  },
  {
   "cell_type": "markdown",
   "metadata": {},
   "source": [
    "### analyze the words in the tweets\n",
    "- which words occur more often - using TF/IDF\n",
    "- which named entities are in detected by spaCy (NER)\n",
    "- which verbs appear most frequently /in their lemma form)\n",
    "- which adjectives appear most frequently\n",
    "etc."
   ]
  },
  {
   "cell_type": "markdown",
   "metadata": {},
   "source": [
    "- Named Entity Recognition doesn't perform well because of the data"
   ]
  },
  {
   "cell_type": "code",
   "execution_count": 11,
   "metadata": {},
   "outputs": [
    {
     "data": {
      "text/plain": [
       "[((' ', 'NORP'), 4532),\n",
       " (('Obama', 'PERSON'), 930),\n",
       " ((' ', 'ORG'), 826),\n",
       " (('Donald Trump', 'PERSON'), 793),\n",
       " (('America', 'GPE'), 636),\n",
       " (('US', 'GPE'), 616),\n",
       " (('today', 'DATE'), 569),\n",
       " (('China', 'GPE'), 459),\n",
       " (('tonight', 'TIME'), 449),\n",
       " (('2016', 'DATE'), 387),\n",
       " (('Trump2016', 'MONEY'), 365),\n",
       " (('American', 'NORP'), 357),\n",
       " (('one', 'CARDINAL'), 330),\n",
       " (('Donald', 'PERSON'), 307),\n",
       " (('Hillary', 'PERSON'), 290),\n",
       " (('first', 'ORDINAL'), 289),\n",
       " (('ObamaCare', 'ORG'), 280),\n",
       " (('           ', 'GPE'), 263),\n",
       " (('                       ', 'GPE'), 251),\n",
       " (('  ', 'ORG'), 248)]"
      ]
     },
     "execution_count": 11,
     "metadata": {},
     "output_type": "execute_result"
    }
   ],
   "source": [
    "ners = Counter()\n",
    "def get_ner(corpus, collection):\n",
    "    for ent in corpus.ents:\n",
    "        ners[ent.text, ent.label_] +=1\n",
    "        \n",
    "for i in docs:\n",
    "    get_ner(i, ners)\n",
    "    \n",
    "ner = ners.most_common(20)\n",
    "ner\n",
    "    "
   ]
  },
  {
   "cell_type": "code",
   "execution_count": 12,
   "metadata": {},
   "outputs": [],
   "source": [
    "# get verbs following a subject\n",
    "# Finding a verb with a subject from below — good\n",
    "verbs = set()\n",
    "for possible_subject in doc:\n",
    "    if possible_subject.dep_ == 'nsubj' and possible_subject.head.pos_ == 'VERB':\n",
    "        verbs.add(possible_subject.head.lemma_)\n",
    "#print(verbs)"
   ]
  },
  {
   "cell_type": "code",
   "execution_count": 67,
   "metadata": {},
   "outputs": [],
   "source": [
    "# get adjectives and nouns\n",
    "def get_adj_noun(corpus, collection):\n",
    "    for token in corpus:\n",
    "        try:\n",
    "            if token.pos_ == \"ADJ\":\n",
    "                if corpus[token.i +1].pos_ == \"NOUN\":\n",
    "                    collection.append([str(token), str(corpus[token.i+1])])\n",
    "        except IndexError:\n",
    "            pass\n",
    "                \n",
    "adj_nouns = list()\n",
    "for i in docs:\n",
    "    get_adj_noun(i, adj_nouns)\n",
    "    \n",
    "#print(adj_nouns)"
   ]
  },
  {
   "cell_type": "code",
   "execution_count": 68,
   "metadata": {},
   "outputs": [],
   "source": [
    "#try out some examples\n",
    "r = random.choice(adj_nouns)\n",
    "s = \"I am an expert in \"\n",
    "s += r[0]\n",
    "s += \" \"\n",
    "s += r[1]\n",
    "s += \". - Donald (the bot) Trump\"\n",
    "\n",
    "#print(s)"
   ]
  },
  {
   "cell_type": "markdown",
   "metadata": {},
   "source": [
    "### test with nltk - commented out\n",
    "from string import punctuation\n",
    "from nltk.corpus import stopwords\n",
    "from nltk import word_tokenize\n",
    "nltk.download(\"stopwords\")\n",
    "from sklearn.feature_extraction.text import TfidfVectorizer\n",
    "\n",
    "stop_words = stopwords.words(\"english\") + list(punctuation)\n",
    "\n",
    "c = Counter()\n",
    "def tokenize(text):\n",
    "    words = word_tokenize(text)\n",
    "    words = [w.lower() for w in words]\n",
    "    w =  (w for w in words if w not in stop_words and not w.isdigit())\n",
    "    c[w] +=1"
   ]
  },
  {
   "cell_type": "markdown",
   "metadata": {},
   "source": [
    "Most common Gerund verbs"
   ]
  },
  {
   "cell_type": "code",
   "execution_count": 69,
   "metadata": {},
   "outputs": [],
   "source": [
    "ger = Counter()\n",
    "\n",
    "def get_top_gerunds(corpus, collection):\n",
    "    for token in corpus:\n",
    "        if token.tag_ == \"VBD\":\n",
    "            collection[str(token.text).lower()] +=1\n",
    "            \n",
    "for i in docs:\n",
    "    get_top_gerunds(i, ger)\n",
    "    \n",
    "#print(ger)"
   ]
  },
  {
   "cell_type": "markdown",
   "metadata": {},
   "source": [
    "### Template 0 - veni, vidi vici type of thing - example only"
   ]
  },
  {
   "cell_type": "code",
   "execution_count": 18,
   "metadata": {},
   "outputs": [
    {
     "name": "stdout",
     "output_type": "stream",
     "text": [
      "I have rigged, dispensed and profited without being scared. -Donald (the bot) Trump\n"
     ]
    }
   ],
   "source": [
    "g = random.choice(list(ger.keys()))\n",
    "g1 = random.choice(list(ger.keys()))\n",
    "g2 = random.choice(list(ger.keys()))\n",
    "s1 = \"I have \"\n",
    "s1 += str(g).lower()\n",
    "s1 += \", \"\n",
    "s1 += str(g1).lower()\n",
    "s1 += \" and \"\n",
    "s1 += str(g2).lower()\n",
    "s1 += \" without being scared. -Donald (the bot) Trump\"\n",
    "\n",
    "print(s1)"
   ]
  },
  {
   "cell_type": "markdown",
   "metadata": {},
   "source": [
    "Most common lemmatized verbs"
   ]
  },
  {
   "cell_type": "code",
   "execution_count": 19,
   "metadata": {},
   "outputs": [],
   "source": [
    "c = Counter()\n",
    "\n",
    "def get_top_verbs(corpus, collection):\n",
    "    for token in corpus:\n",
    "        if token.tag_ in [\"VB\", \"VBG\", \"VBP\", \"VBD\", \"VBN\", \"VBZ\"]:\n",
    "            collection[str(token.lemma_).lower()] +=1\n",
    "           \n",
    "for i in docs:\n",
    "    get_top_verbs(i, c) "
   ]
  },
  {
   "cell_type": "markdown",
   "metadata": {},
   "source": [
    "Plot the most common verbs (lemmatized form)"
   ]
  },
  {
   "cell_type": "code",
   "execution_count": 21,
   "metadata": {},
   "outputs": [
    {
     "data": {
      "text/plain": [
       "<BarContainer object of 20 artists>"
      ]
     },
     "execution_count": 21,
     "metadata": {},
     "output_type": "execute_result"
    },
    {
     "data": {
      "image/png": "[encoded data removed]",
      "text/plain": [
       "<Figure size 432x288 with 1 Axes>"
      ]
     },
     "metadata": {
      "needs_background": "light"
     },
     "output_type": "display_data"
    }
   ],
   "source": [
    "a = c.most_common(20)\n",
    "a = pd.DataFrame(a, columns = [\"word\", \"frequency\"])\n",
    "plt.barh(a[\"word\"], a[\"frequency\"])"
   ]
  },
  {
   "cell_type": "markdown",
   "metadata": {},
   "source": [
    "Random example\n",
    "\n",
    "x = random.choice(list(c.keys()))\n",
    "x1 = random.choice(list(c.keys()))\n",
    "s = \"You can't make me \"\n",
    "s += str(x).lower()\n",
    "#s += \" what you \"\n",
    "#s += str(x1).lower()\n",
    "s += \". - Donald (the bot) Trump\"\n",
    "\n",
    "print(s)"
   ]
  },
  {
   "cell_type": "markdown",
   "metadata": {},
   "source": [
    "Most common nouns appearing after \"be a\""
   ]
  },
  {
   "cell_type": "code",
   "execution_count": 23,
   "metadata": {},
   "outputs": [],
   "source": [
    "c2 = Counter()\n",
    "def get_words_after_is(corpus, collection):\n",
    "    for token in corpus:\n",
    "        try:\n",
    "            if token.text == \"is\" and corpus[token.i+1].text == \"a\":\n",
    "                if corpus[token.i +2].tag_ == \"NN\" and corpus[token.i+2].pos:\n",
    "                    collection[str(corpus[token.i +2]).lower()] += 1\n",
    "        except IndexError:\n",
    "            pass\n",
    "        \n",
    "for i in docs:\n",
    "    get_words_after_is(i, c2)"
   ]
  },
  {
   "cell_type": "code",
   "execution_count": 70,
   "metadata": {},
   "outputs": [
    {
     "data": {
      "text/plain": [
       "<BarContainer object of 20 artists>"
      ]
     },
     "execution_count": 70,
     "metadata": {},
     "output_type": "execute_result"
    },
    {
     "data": {
      "image/png": "[encoded data removed]",
      "text/plain": [
       "<Figure size 432x288 with 1 Axes>"
      ]
     },
     "metadata": {
      "needs_background": "light"
     },
     "output_type": "display_data"
    }
   ],
   "source": [
    "# plot the most common nouns appearing after IS (BE)\n",
    "a = c2.most_common(20)\n",
    "a = pd.DataFrame(a, columns = [\"word\", \"frequency\"])\n",
    "plt.barh(a[\"word\"], a[\"frequency\"])\n"
   ]
  },
  {
   "cell_type": "markdown",
   "metadata": {},
   "source": [
    "Get top nouns in singulas and plural"
   ]
  },
  {
   "cell_type": "code",
   "execution_count": 26,
   "metadata": {},
   "outputs": [],
   "source": [
    "c1 = Counter()\n",
    "\n",
    "def get_top_nouns(corpus, collection):\n",
    "    for token in corpus:\n",
    "        if token.tag_ in [\"NN\", \"NNS\"]:\n",
    "            c1[str(token.text).lower()] +=1"
   ]
  },
  {
   "cell_type": "code",
   "execution_count": 27,
   "metadata": {},
   "outputs": [
    {
     "data": {
      "text/plain": [
       "[('thanks', 1773),\n",
       " ('amp', 1567),\n",
       " ('#', 1445),\n",
       " ('people', 1399),\n",
       " ('country', 961),\n",
       " ('time', 927),\n",
       " ('president', 862),\n",
       " ('today', 777),\n",
       " ('tonight', 617),\n",
       " ('job', 539)]"
      ]
     },
     "execution_count": 27,
     "metadata": {},
     "output_type": "execute_result"
    }
   ],
   "source": [
    "# run the function\n",
    "for i in docs:\n",
    "    get_top_nouns(i, c1)\n",
    "c1.most_common(10)"
   ]
  },
  {
   "cell_type": "markdown",
   "metadata": {},
   "source": [
    "Try noun_chunks"
   ]
  },
  {
   "cell_type": "code",
   "execution_count": 28,
   "metadata": {},
   "outputs": [],
   "source": [
    "nc = set()\n",
    "def get_noun_chunks(doc, collection):\n",
    "    for np in doc.noun_chunks:\n",
    "        collection.add(np.text)"
   ]
  },
  {
   "cell_type": "code",
   "execution_count": 29,
   "metadata": {},
   "outputs": [],
   "source": [
    "get_noun_chunks(doc, nc)\n",
    "#print(nc)"
   ]
  },
  {
   "cell_type": "markdown",
   "metadata": {},
   "source": [
    "### Functions"
   ]
  },
  {
   "cell_type": "code",
   "execution_count": 133,
   "metadata": {},
   "outputs": [],
   "source": [
    "def get_dependencies(doc, collection, dep1 = None, dep2 = None, dep3 = None):\n",
    "    \"\"\"get the dependencies (up to 3) and store them in separate collections as lists\n",
    "    dependencies available are (examples): dobj, nsubj, csubj, aux, neg, ROOT, det, quantmod etc.\"\"\"\n",
    "    try:\n",
    "        if dep2 == None:\n",
    "            for token in doc:\n",
    "                if token.dep_ == dep1:\n",
    "                    collection.append([str(token.text)])\n",
    "\n",
    "        elif dep3 == None:\n",
    "            for token in doc:\n",
    "                if token.dep_ == dep1:\n",
    "                    if doc[token.i +1].dep_ == dep2:\n",
    "                        collection.append([str(token.text), str(doc[token.i+1].lemma_)])\n",
    "        else:\n",
    "            for token in doc:\n",
    "                if token.dep_ == dep1:\n",
    "                    if doc[token.i +1].dep_ == dep2 and doc[token.i +2].dep_ == dep3:\n",
    "                        collection.append([str(token.text), str(doc[token.i+1].text), str(doc[token.i+2].text)])\n",
    "    except IndexError:\n",
    "        pass"
   ]
  },
  {
   "cell_type": "code",
   "execution_count": 134,
   "metadata": {},
   "outputs": [],
   "source": [
    "def get_tags(doc, collection, tag1, tag2):\n",
    "    \"\"\"get 2 tags in the documents\"\"\"\n",
    "    for tag in doc:\n",
    "        if tag.tag_ == \"tag1\":\n",
    "            if doc[tag.i + 1].tag_ == \"tag2\":\n",
    "                collection.add([str(tag), str(doc[tag.i+1])])"
   ]
  },
  {
   "cell_type": "code",
   "execution_count": 135,
   "metadata": {},
   "outputs": [],
   "source": [
    "def get_dependencies_lemmatized(doc, collection, dep1 = None, dep2 = None, dep3 = None):\n",
    "    \"\"\"get the dependencies (up to 3) and store them in separate collections as lists\n",
    "    dependencies available are (examples): dobj, nsubj, csubj, aux, neg, ROOT, det, quantmod etc.\"\"\"\n",
    "    try:\n",
    "        if dep2 == None:\n",
    "            for token in doc:\n",
    "                if token.dep_ == dep1:\n",
    "                    collection.append([str(token.text), str(doc[token.i+1])])\n",
    "\n",
    "        elif dep3 == None:\n",
    "            for token in doc:\n",
    "                if token.dep_ == dep1:\n",
    "                    if doc[token.i +1].dep_ == dep2:\n",
    "                        collection.append([str(token.text), str(doc[token.i+1].lemma_)])\n",
    "        else:\n",
    "            for token in doc:\n",
    "                if token.dep_ == dep1:\n",
    "                    if doc[token.i +1].dep_ == dep2 and doc[token.i +2].dep_ == dep3:\n",
    "                        collection.append([str(token.lemma_), str(doc[token.i+1]), str(doc[token.i+2])])\n",
    "    except IndexError:\n",
    "        pass"
   ]
  },
  {
   "cell_type": "code",
   "execution_count": 136,
   "metadata": {},
   "outputs": [],
   "source": [
    "def deps_printout(sentence):\n",
    "    \"\"\"Prints out the text, tag, dep, head text, head tag, token lemma and part \n",
    "    of speech for each word in a sentence\"\"\"\n",
    "                  \n",
    "    doc1 = nlp(sentence)\n",
    "\n",
    "    for token in doc1:\n",
    "        print(\"{0}/{1} <--{2}-- {3}/{4} {5} {6}\".format(\n",
    "            token.text, token.tag_, token.dep_, token.head.text, token.head.tag_, token.lemma_, token.pos_))"
   ]
  },
  {
   "cell_type": "markdown",
   "metadata": {},
   "source": [
    "### Templates:\n",
    "- In order to get a sense of what we need, there is a function that simply displays the dependency tree: "
   ]
  },
  {
   "cell_type": "code",
   "execution_count": 137,
   "metadata": {},
   "outputs": [
    {
     "name": "stdout",
     "output_type": "stream",
     "text": [
      "The/DT <--det-- beauty/NN the DET\n",
      "beauty/NN <--nsubj-- is/VBZ beauty NOUN\n",
      "of/IN <--prep-- beauty/NN of ADP\n",
      "me/PRP <--pobj-- of/IN -PRON- PRON\n",
      "is/VBZ <--ROOT-- is/VBZ be VERB\n",
      "that/IN <--mark-- am/VBP that ADP\n",
      "I/PRP <--nsubj-- am/VBP -PRON- PRON\n",
      "am/VBP <--ccomp-- is/VBZ be VERB\n",
      "very/RB <--advmod-- rich/JJ very ADV\n",
      "rich/JJ <--acomp-- am/VBP rich ADJ\n",
      "./. <--punct-- is/VBZ . PUNCT\n"
     ]
    }
   ],
   "source": [
    "deps_printout(\"The beauty of me is that I am very rich.\")"
   ]
  },
  {
   "cell_type": "markdown",
   "metadata": {},
   "source": [
    "Template 1"
   ]
  },
  {
   "cell_type": "code",
   "execution_count": 138,
   "metadata": {},
   "outputs": [],
   "source": [
    "# get dependencies for the template You should never try To\n",
    "def get_ngrams_for_template1():\n",
    "    adv_acomp = []\n",
    "    for i in docs:\n",
    "        for i in docs:\n",
    "            get_dependencies(i, adv_acomp, dep1 = \"advmod\", dep2 = 'acomp')\n",
    "    return adv_acomp\n",
    "\n",
    "t1_src = get_ngrams_for_template1()\n",
    "\n",
    "def template1(source):\n",
    "    # complete the sentence and return it\n",
    "    a1 = random.choice(source)\n",
    "    temp1 = \"The beauty of me is that I am \" + \" \".join([x for x in a1])\n",
    "    temp1 += \". - Donald (the bot) Trump\"\n",
    "    return temp1"
   ]
  },
  {
   "cell_type": "code",
   "execution_count": 140,
   "metadata": {},
   "outputs": [
    {
     "data": {
      "text/plain": [
       "'The beauty of me is that I am very bad. - Donald (the bot) Trump'"
      ]
     },
     "execution_count": 140,
     "metadata": {},
     "output_type": "execute_result"
    }
   ],
   "source": [
    "template1(t1_src)"
   ]
  },
  {
   "cell_type": "markdown",
   "metadata": {},
   "source": [
    "Template 2"
   ]
  },
  {
   "cell_type": "code",
   "execution_count": 141,
   "metadata": {},
   "outputs": [],
   "source": [
    "def get_ngrams_for_template2():\n",
    "    # Get ROOT + AMOD + DOBJ IN THE FORM OF VERB + ADJ + NOUN\n",
    "    van = []\n",
    "\n",
    "    for i in docs:\n",
    "        for token in i:\n",
    "            if token.dep_ == \"amod\" and token.pos_ == \"ADJ\":\n",
    "                if i[token.i + 1].dep_ == \"dobj\" and i[token.i+1].pos_ == \"NOUN\" and i[token.i+1].tag_ == \"NN\" \\\n",
    "                    and i[token.i+2].dep_ == \"punct\":\n",
    "                    van.append([str(token.text).lower(), str(i[token.i+1].text).lower()])\n",
    "    return van\n",
    "    \n",
    "t2_src = get_ngrams_for_template2()\n",
    "\n",
    "def template2(source):\n",
    "    v = random.choice(source)\n",
    "    start = \"Is there such a thing as an \"\n",
    "    start1 = \"Is there such a thing as \"\n",
    "    start2 = \"Is there such a thing as a \"\n",
    "    end = \"? - Donald (the bot) Trump\"\n",
    "    if len(v[1]) <=2:\n",
    "        pass\n",
    "    elif v[0][0] in[\"a\", \"e\", \"i\", \"o\", \"u\"]:\n",
    "        temp2 = start + \" \".join([x for x in v]) + end\n",
    "    elif v[0] == \"great\":\n",
    "        temp2 = start1 + \" \".join([x for x in v]) + end\n",
    "    else:\n",
    "        temp2 = start2 + \" \".join([x for x in v]) + end\n",
    "    return temp2"
   ]
  },
  {
   "cell_type": "code",
   "execution_count": 142,
   "metadata": {},
   "outputs": [
    {
     "data": {
      "text/plain": [
       "'Is there such a thing as great compliment? - Donald (the bot) Trump'"
      ]
     },
     "execution_count": 142,
     "metadata": {},
     "output_type": "execute_result"
    }
   ],
   "source": [
    "template2(t2_src)"
   ]
  },
  {
   "cell_type": "markdown",
   "metadata": {},
   "source": [
    "Template 3"
   ]
  },
  {
   "cell_type": "code",
   "execution_count": 143,
   "metadata": {},
   "outputs": [
    {
     "name": "stdout",
     "output_type": "stream",
     "text": [
      "My/PRP$ <--poss-- Twitter/NN -PRON- ADJ\n",
      "Twitter/NN <--nsubj-- become/VBN twitter NOUN\n",
      "has/VBZ <--aux-- become/VBN have VERB\n",
      "become/VBN <--ROOT-- become/VBN become VERB\n",
      "so/RB <--advmod-- powerful/JJ so ADV\n",
      "powerful/JJ <--acomp-- become/VBN powerful ADJ\n",
      "that/IN <--mark-- make/VB that ADP\n",
      "I/PRP <--nsubj-- make/VB -PRON- PRON\n",
      "can/MD <--aux-- make/VB can VERB\n",
      "actually/RB <--advmod-- make/VB actually ADV\n",
      "make/VB <--ccomp-- powerful/JJ make VERB\n",
      "my/PRP$ <--poss-- enemies/NNS -PRON- ADJ\n",
      "enemies/NNS <--nsubj-- tell/VB enemy NOUN\n",
      "tell/VB <--ccomp-- make/VB tell VERB\n",
      "the/DT <--det-- truth/NN the DET\n",
      "truth/NN <--dobj-- tell/VB truth NOUN\n",
      "./. <--punct-- become/VBN . PUNCT\n"
     ]
    }
   ],
   "source": [
    "# show the dependencies in the sample\n",
    "deps_printout(\"My Twitter has become so powerful that I can actually make my enemies tell the truth.\")"
   ]
  },
  {
   "cell_type": "code",
   "execution_count": 146,
   "metadata": {},
   "outputs": [],
   "source": [
    "def get_ngrams_for_template3():\n",
    "    det_d = []\n",
    "    for i in docs:\n",
    "        get_dependencies_lemmatized(i, det_d, dep1 = \"ccomp\", dep2 = 'det', dep3 = \"dobj\")\n",
    "        \n",
    "    return det_d\n",
    "\n",
    "t3_src = get_ngrams_for_template3()\n",
    "\n",
    "def template3(source1, source2):\n",
    "    a2 = random.choice(source1)\n",
    "    a3 = random.choice(source2)\n",
    "    \n",
    "    t = \"My Twitter has become an \"\n",
    "    t_1 = \"My Twitter has become a \"\n",
    "    mid = \", I can actually make my enemies \"\n",
    "    end = \". - Donald (the bot) Trump\"\n",
    "    \n",
    "    if len(a3[0]) <= 2:\n",
    "        pass\n",
    "    elif a3[0][0] in [\"a\", \"e\", \"i\", \"o\", \"u\"]:\n",
    "        #a = (*a3, sep=\" \")\n",
    "        temp3 = t + \" \".join([x for x in a3]) + mid + \" \".join([x for x in a2]) + end\n",
    "    else:\n",
    "        temp3 = t_1 + \" \".join([x for x in a3]) + mid + \" \".join([x for x in a2]) + end\n",
    "    return temp3\n",
    "\n",
    "    \n"
   ]
  },
  {
   "cell_type": "code",
   "execution_count": 147,
   "metadata": {},
   "outputs": [
    {
     "data": {
      "text/plain": [
       "'My Twitter has become a terrific weekend, I can actually make my enemies land another billionaire. - Donald (the bot) Trump'"
      ]
     },
     "execution_count": 147,
     "metadata": {},
     "output_type": "execute_result"
    }
   ],
   "source": [
    "template3(t3_src, t2_src)"
   ]
  },
  {
   "cell_type": "markdown",
   "metadata": {},
   "source": [
    "Templates 4, 5 and 6"
   ]
  },
  {
   "cell_type": "code",
   "execution_count": 157,
   "metadata": {},
   "outputs": [
    {
     "name": "stdout",
     "output_type": "stream",
     "text": [
      "I/PRP <--nsubj-- think/VBP -PRON- PRON\n",
      "think/VBP <--ROOT-- think/VBP think VERB\n",
      "the/DT <--det-- difference/NN the DET\n",
      "only/JJ <--amod-- difference/NN only ADJ\n",
      "difference/NN <--nsubj-- is/VBZ difference NOUN\n",
      "between/IN <--prep-- difference/NN between ADP\n",
      "me/PRP <--pobj-- between/IN -PRON- PRON\n",
      "and/CC <--cc-- me/PRP and CCONJ\n",
      "the/DT <--det-- candidates/NNS the DET\n",
      "other/JJ <--amod-- candidates/NNS other ADJ\n",
      "candidates/NNS <--conj-- me/PRP candidate NOUN\n",
      "is/VBZ <--ccomp-- think/VBP be VERB\n",
      "that/IN <--mark-- 'm/VBP that ADP\n",
      "I/PRP <--nsubj-- 'm/VBP -PRON- PRON\n",
      "'m/VBP <--ccomp-- is/VBZ be VERB\n",
      "more/RBR <--advmod-- beautiful/JJ more ADV\n",
      "beautiful/JJ <--acomp-- 'm/VBP beautiful ADJ\n",
      "and/CC <--cc-- beautiful/JJ and CCONJ\n",
      "more/RBR <--advmod-- attentive/JJ more ADV\n",
      "attentive/JJ <--conj-- beautiful/JJ attentive ADJ\n",
      "./. <--punct-- think/VBP . PUNCT\n"
     ]
    }
   ],
   "source": [
    "# see how the text looks like in dependencies\n",
    "deps_printout(\"I think the only difference between me and the other candidates \"\n",
    "              \"is that I'm more beautiful and more attentive.\")"
   ]
  },
  {
   "cell_type": "code",
   "execution_count": 158,
   "metadata": {},
   "outputs": [
    {
     "name": "stdout",
     "output_type": "stream",
     "text": [
      "I/PRP <--nsubj-- think/VBP -PRON- PRON\n",
      "think/VBP <--ROOT-- think/VBP think VERB\n",
      "the/DT <--det-- difference/NN the DET\n",
      "only/JJ <--amod-- difference/NN only ADJ\n",
      "difference/NN <--nsubj-- is/VBZ difference NOUN\n",
      "between/IN <--prep-- difference/NN between ADP\n",
      "me/PRP <--pobj-- between/IN -PRON- PRON\n",
      "and/CC <--cc-- me/PRP and CCONJ\n",
      "the/DT <--det-- candidates/NNS the DET\n",
      "other/JJ <--amod-- candidates/NNS other ADJ\n",
      "candidates/NNS <--conj-- me/PRP candidate NOUN\n",
      "is/VBZ <--ccomp-- think/VBP be VERB\n",
      "that/IN <--mark-- 'm/VBP that ADP\n",
      "I/PRP <--nsubj-- 'm/VBP -PRON- PRON\n",
      "'m/VBP <--ccomp-- is/VBZ be VERB\n",
      "better/JJR <--acomp-- 'm/VBP good ADJ\n",
      "and/CC <--cc-- better/JJR and CCONJ\n",
      "cheaper/JJR <--conj-- better/JJR cheap ADJ\n",
      "./. <--punct-- think/VBP . PUNCT\n"
     ]
    }
   ],
   "source": [
    "# see how the text looks like in dependencies\n",
    "deps_printout(\"I think the only difference between me and the other candidates \"\n",
    "              \"is that I'm better and cheaper.\")"
   ]
  },
  {
   "cell_type": "code",
   "execution_count": 250,
   "metadata": {},
   "outputs": [],
   "source": [
    "def get_ngrams_for_template4():\n",
    "    jjr = []\n",
    "    for i in docs:\n",
    "        for token in i:\n",
    "            if token.dep_ == \"ccomp\" and token.tag_ == \"VBP\":\n",
    "                if i[token.i+1].tag_ == \"JJR\" and i[token.i+1].text != \"more\":\n",
    "                    jjr.append(str(i[token.i+1]).lower())\n",
    "    jjs = []\n",
    "    for i in docs:\n",
    "        for token in i:\n",
    "            if token.dep_ == \"det\":\n",
    "                if i[token.i+1].tag_ == \"JJS\" and i[token.i+1].text != \"most\":\n",
    "                    jjs.append(str(i[token.i+1]).lower())\n",
    "    jj = []\n",
    "    for i in docs:\n",
    "        for token in i:\n",
    "            if token.dep_ == \"advmod\" and token.tag_ == \"RBR\":\n",
    "                if i[token.i+1].tag_ == \"JJ\" and i[token.i+1].text != \"more\":\n",
    "                    jj.append(str(i[token.i+1]).lower())\n",
    "    jj1 = set(jj)\n",
    "    jj = list(jj1)\n",
    "    \n",
    "    jjr1 = set(jjr)\n",
    "    jjr1.remove(\"less\")\n",
    "    jjr = list(jjr1)\n",
    "    \n",
    "    jjs1 = set(jjs)\n",
    "    jjs = list(jjs1)\n",
    "    return jj, jjr, jjs\n",
    "\n",
    "t4_src, t5_src, t6_src = get_ngrams_for_template4()\n",
    "\n",
    "def template4(source):\n",
    "    \n",
    "    jj = random.choice(source)\n",
    "    jj1 = random.choice(source)\n",
    "    \n",
    "    \n",
    "    start = \"I think the only difference between me and other candidates is that I'm more \"\n",
    "    mid = \" and more \"\n",
    "    end = \". - Donald (the bot) Trump\"\n",
    "    \n",
    "    temp4 = start + jj + mid + jj1 + end\n",
    "    return temp4\n",
    "\n",
    "\n",
    "def template5(source):\n",
    "    jjr = random.choice(source)\n",
    "    jjr1 = random.choice(source)\n",
    "    \n",
    "    start = \"I think the only difference between me and other candidates is that I'm \"\n",
    "    mid = \" and \"\n",
    "    end = \". - Donald (the bot) Trump\"\n",
    "    \n",
    "    temp5 = start + jjr + mid + jjr1 + end\n",
    "    return temp5\n",
    "\n",
    "def template6(source):\n",
    "    jjs = random.choice(source)\n",
    "    start = \"I am NOT a shmuck. I am the \"\n",
    "    end = \" there is. - Donald (the bot) Trump\"\n",
    "    \n",
    "    temp6 = start + jjs + end\n",
    "    return temp6"
   ]
  },
  {
   "cell_type": "code",
   "execution_count": 251,
   "metadata": {},
   "outputs": [
    {
     "data": {
      "text/plain": [
       "\"I think the only difference between me and other candidates is that I'm more interested and more serious. - Donald (the bot) Trump\""
      ]
     },
     "execution_count": 251,
     "metadata": {},
     "output_type": "execute_result"
    }
   ],
   "source": [
    "template4(t4_src)"
   ]
  },
  {
   "cell_type": "code",
   "execution_count": 252,
   "metadata": {},
   "outputs": [
    {
     "data": {
      "text/plain": [
       "\"I think the only difference between me and other candidates is that I'm funnier and smarter. - Donald (the bot) Trump\""
      ]
     },
     "execution_count": 252,
     "metadata": {},
     "output_type": "execute_result"
    }
   ],
   "source": [
    "template5(t5_src)"
   ]
  },
  {
   "cell_type": "code",
   "execution_count": 253,
   "metadata": {},
   "outputs": [
    {
     "data": {
      "text/plain": [
       "'I am NOT a shmuck. I am the secondhighest there is. - Donald (the bot) Trump'"
      ]
     },
     "execution_count": 253,
     "metadata": {},
     "output_type": "execute_result"
    }
   ],
   "source": [
    "template6(t6_src)"
   ]
  },
  {
   "cell_type": "markdown",
   "metadata": {},
   "source": [
    "Template 7"
   ]
  },
  {
   "cell_type": "code",
   "execution_count": 257,
   "metadata": {},
   "outputs": [],
   "source": [
    "def get_ngrams_for_temp7():\n",
    "    obj = []\n",
    "    for i in docs:\n",
    "        get_dependencies(i, obj, dep1 = \"det\", dep2 = \"dobj\")\n",
    "    return obj\n",
    "\n",
    "t7_src = get_ngrams_for_temp7()\n",
    "\n",
    "def template7(source):\n",
    "    \n",
    "    o = random.choice(source)\n",
    "    \n",
    "    start = \"I would say I'm the all-time judge of \"\n",
    "    end = \". - Donald (the bot) Trump\"\n",
    "    \n",
    "    temp7 = start + \" \".join([x for x in o]) + end\n",
    "    return temp7"
   ]
  },
  {
   "cell_type": "code",
   "execution_count": 258,
   "metadata": {},
   "outputs": [
    {
     "data": {
      "text/plain": [
       "\"I would say I'm the all-time judge of an attack. - Donald (the bot) Trump\""
      ]
     },
     "execution_count": 258,
     "metadata": {},
     "output_type": "execute_result"
    }
   ],
   "source": [
    "template7(t7_src)"
   ]
  },
  {
   "cell_type": "markdown",
   "metadata": {},
   "source": [
    "## FINAL FUNCTION - randomizez the template"
   ]
  },
  {
   "cell_type": "code",
   "execution_count": 262,
   "metadata": {},
   "outputs": [],
   "source": [
    "functions = [template1(t1_src), template2(t2_src), template3(t3_src, t2_src), \n",
    "             template4(t4_src), template5(t5_src), template6(t6_src), template7(t7_src)]"
   ]
  },
  {
   "cell_type": "code",
   "execution_count": 263,
   "metadata": {},
   "outputs": [],
   "source": [
    "def temp_output(funcs):\n",
    "    \"\"\"choose at random from a list of the template functions\"\"\"\n",
    "    f = random.choice(funcs)\n",
    "    return f\n",
    "    "
   ]
  },
  {
   "cell_type": "code",
   "execution_count": 264,
   "metadata": {},
   "outputs": [
    {
     "data": {
      "text/plain": [
       "'Is there such a thing as a fair shake? - Donald (the bot) Trump'"
      ]
     },
     "execution_count": 264,
     "metadata": {},
     "output_type": "execute_result"
    }
   ],
   "source": [
    "temp_output(functions)"
   ]
  }
 ],
 "metadata": {
  "kernelspec": {
   "display_name": "Python 3",
   "language": "python",
   "name": "python3"
  },
  "language_info": {
   "codemirror_mode": {
    "name": "ipython",
    "version": 3
   },
   "file_extension": ".py",
   "mimetype": "text/x-python",
   "name": "python",
   "nbconvert_exporter": "python",
   "pygments_lexer": "ipython3",
   "version": "3.6.4"
  }
 },
 "nbformat": 4,
 "nbformat_minor": 2
}
