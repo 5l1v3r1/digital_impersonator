{
 "cells": [
  {
   "cell_type": "code",
   "execution_count": 110,
   "metadata": {},
   "outputs": [],
   "source": [
    "import markovify\n",
    "import pandas as pd\n",
    "pd.set_option('max_colwidth', 100)"
   ]
  },
  {
   "cell_type": "code",
   "execution_count": 154,
   "metadata": {},
   "outputs": [],
   "source": [
    "class BotTweet():\n",
    "    def __init__(self, text):\n",
    "        self.text = text\n",
    "        self.corpus = None\n",
    "        self.model = markovify.Text(corpus)\n",
    "        \n",
    "    def set_corpus(self):\n",
    "        with open(self.text) as f:\n",
    "            self.corpus = f.read()\n",
    "        \n",
    "    def make_short_tweet(self):\n",
    "        tw = self.model.make_short_sentence(140)\n",
    "        print(\"@RATSTrump \\n\" + str(tw))\n",
    "    "
   ]
  },
  {
   "cell_type": "code",
   "execution_count": 158,
   "metadata": {},
   "outputs": [],
   "source": [
    "bt = BotTweet(\"trump_speeches.txt\")\n",
    "bt1 = BotTweet(\"tweets_trump1.csv\")"
   ]
  },
  {
   "cell_type": "code",
   "execution_count": 159,
   "metadata": {},
   "outputs": [
    {
     "name": "stdout",
     "output_type": "stream",
     "text": [
      "@RATSTrump \n",
      "We got it from them.\n"
     ]
    }
   ],
   "source": [
    "bt.make_short_tweet()"
   ]
  },
  {
   "cell_type": "code",
   "execution_count": 173,
   "metadata": {},
   "outputs": [
    {
     "name": "stdout",
     "output_type": "stream",
     "text": [
      "@RATSTrump \n",
      "We will build a plant and probably in September of ’16 right before the convention.\n"
     ]
    }
   ],
   "source": [
    "bt1.make_short_tweet()"
   ]
  },
  {
   "cell_type": "markdown",
   "metadata": {},
   "source": [
    "Clean the tweets data and save it to csv"
   ]
  },
  {
   "cell_type": "code",
   "execution_count": 121,
   "metadata": {},
   "outputs": [],
   "source": [
    "df = pd.read_csv(\"tweets_trump1.csv\", low_memory = False)\n",
    "df = df['text']"
   ]
  },
  {
   "cell_type": "code",
   "execution_count": 131,
   "metadata": {},
   "outputs": [],
   "source": [
    "df = df.replace(r'https?\\:\\/\\/', \"\", regex = True)\n",
    "df = df.replace(r'#\\S+', \"\", regex = True)\n",
    "df = df.replace(r'\\.?@', \"\", regex = True)\n",
    "df = df.replace(r'RT.+', \"\", regex = True)\n",
    "df = df.replace(r'Video\\:', \"\", regex = True)\n",
    "df = df.replace(r'\\n', \"\", regex = True)\n",
    "df = df.replace(r'&', \"and\", regex = True)\n",
    "df = df.replace(r'https?:\\/\\/.*[\\r\\n]*', \"\", regex = True)\n",
    "df = df.replace(r'http\\S+', \"\", regex = True)\n",
    "df = df.replace(r'tinyurl\\S+', \"\", regex = True)\n",
    "df = df[:32810]"
   ]
  },
  {
   "cell_type": "code",
   "execution_count": 132,
   "metadata": {},
   "outputs": [],
   "source": [
    "df.to_csv(\"tweets_csv.csv\", index=False, sep = \"|\")"
   ]
  },
  {
   "cell_type": "code",
   "execution_count": 133,
   "metadata": {},
   "outputs": [
    {
     "data": {
      "text/plain": [
       "0                    Read a great interview with Donald Trump that appeared in The New York Times Magazine: \n",
       "1        Congratulations to Evan Lysacek for being nominated SI sportsman of the year. He's a great guy, ...\n",
       "2        I was on The View this morning. We talked about The Apprentice. Tonight's episode is a great one...\n",
       "3        Tomorrow night's episode of The Apprentice delivers excitement at QVC along with appearances by ...\n",
       "4                 Donald Trump Partners with TV1 on New Reality Series Entitled, Omarosa's Ultimate Merger: \n",
       "5        I'll be appearing on Larry King Live for his final show, Thursday night at 9 p.m., CNN. Larry's ...\n",
       "6        I'll be on The Late Show with David Letterman tonight--be sure to tune in for a great show. 11:3...\n",
       "7                Watch the Miss Universe competition LIVE from the Bahamas - Sunday, 8/23  9pm (ET) on NBC: \n",
       "8                  Watch video of Ivanka Trump sharing business advice with 4 entrepreneurial women on GMA: \n",
       "9        Tonight's episode of The Apprentice is one you won't want to miss! Be sure to tune in--10 p.m. o...\n",
       "10       \"...these days...we could all use a little of the power of Trumpative thinking.\" –BarnesandNoble...\n",
       "11       Enter the \"Think Like A Champion\" signed book and keychain contest:www.trumpthinklikeachampion.c...\n",
       "12       Congratulations to Brandy as our new Apprentice and to Clint for being a great player. It's been...\n",
       "13                Hear Donald Trump discuss big gov spending, banks, and taxes on Your World w/Neil Cavuto: \n",
       "14                                    There's a lot going on at the Eric Trump Foundation ...  bit.ly/9rJ0sn\n",
       "15       Don't forget to watch Larry King tonight, CNN at 9 pm.  He's a television legend and a great fri...\n",
       "16       Tonight's episode of The Apprentice is one of the best ever--we're down to the final 3, and it's...\n",
       "17                           \"Strive for wholeness and keep your sense of wonder intact.\" --Donald J. Trump \n",
       "18       Be sure to tune in and watch Donald Trump on Late Night with David Letterman as he presents the ...\n",
       "19       RE: Michael Jackson: \"He was a great friend and a spectacular entertainer. It’s a devastating lo...\n",
       "20       From Donald Trump: Wishing everyone a wonderful holiday and a happy, healthy, prosperous New Yea...\n",
       "21                                                      My best wishes to everyone for a Happy Thanksgiving!\n",
       "22                                                           “Expand your life every day.” –Donald J. Trump \n",
       "23       Staff Sgt. Salvatore A. Giunta received the Medal of Honor from Pres. Obama this month. It was a...\n",
       "24                       \"Your higher self is in direct opposition to your comfort zone.\" --Donald J. Trump \n",
       "25                             Donald Trump backs 'Apprentice' Randal Pinkett for N.J. Lieutenant Governor: \n",
       "26       I'll be discussing a variety of topics tonight with Greta Van Susteren, 10 p.m. on Fox News. It ...\n",
       "27       Tune in tonight at 10 pm on NBC for another exciting episode of The Apprentice -- and see the Do...\n",
       "28       Reminder: The Miss Universe competition will be LIVE from the Bahamas - Tonight  9pm (EST) on NBC: \n",
       "29              Did you know Donald Trump is on Facebook? www.facebook.com/DonaldTrump - Become a fan today!\n",
       "                                                        ...                                                 \n",
       "32780    It's not only Pakistan that we pay billions of dollars to for nothing, but also many other count...\n",
       "32781    Today, it was my great honor to sign a new Executive Order to ensure Veterans have the resources...\n",
       "32782    ICEgov HSI agents and ERO officers, on behalf of an entire Nation, THANK YOU for what you are do...\n",
       "32783    Thank you Adam Levine, The Federalist, in interview on foxandfriends  “Donald Trump is the great...\n",
       "32784    Good news: Toyota and Mazda announce giant new Huntsville, Alabama, plant which will produce ove...\n",
       "32785    Can’t wait to be back in the amazing state of Tennessee to address the 99th American FarmBureau ...\n",
       "32786             Dow just crashes through 25,000. Congrats! Big cuts in unnecessary regulations continuing.\n",
       "32787    Crooked Hillary Clinton’s top aid, Huma Abedin, has been accused of disregarding basic security ...\n",
       "32788    Reason I canceled my trip to London is that I am not a big fan of the Obama Administration havin...\n",
       "32789    Well, now that collusion with Russia is proving to be a total hoax and the only collusion is wit...\n",
       "32790    “House votes on controversial FISA ACT today.” This is the act that may have been used, with the...\n",
       "32791    Leaving Camp David for the White House. Great meetings with the Cabinet and Military on many ver...\n",
       "32792    We are fighting for our farmers, for our country, and for our GREAT AMERICAN FLAG. We want our f...\n",
       "32793    Small Business Poll has highest approval numbers in the polls history. All business is just at t...\n",
       "32794    Thanks to all of the Republican and Democratic lawmakers for today’s very productive meeting on ...\n",
       "32795    I will be announcing THE MOST DISHONEST andamp; CORRUPT MEDIA AWARDS OF THE YEAR on Monday at 5:...\n",
       "32796    We have been working every day to DELIVER for America’s Farmers just as they work every day to d...\n",
       "32797    With that being said, I have personally directed the fix to the unmasking process since taking o...\n",
       "32798    Such respect for the people of Iran as they try to take back their corrupt government. You will ...\n",
       "32799    Today, it was my great honor to welcome Prime Minister Erna Solberg of Norway to the WhiteHouse ...\n",
       "32800    The United States needs the security of the Wall on the Southern Border, which must be part of a...\n",
       "32801    “President Trump has something now he didn’t have a year ago, that is a set of accomplishments t...\n",
       "32802    ....Because of the Democrats not being interested in life and safety, DACA has now taken a big s...\n",
       "32803    More great news as a result of historical Tax Cuts and Reform: Fiat Chrysler announces plan to i...\n",
       "32804    “His is turning out to be an enormously consequential presidency. So much so that, despite my ow...\n",
       "32805    North Korean Leader Kim Jong Un just stated that the “Nuclear Button is on his desk at all times...\n",
       "32806           Companies are giving big bonuses to their workers because of the Tax Cut Bill. Really great!\n",
       "32807    Thank you to Brandon Judd of the National Border Patrol Council for your kind words on how well ...\n",
       "32808    Chrysler is moving a massive plant from Mexico to Michigan, reversing a years long opposite tren...\n",
       "32809    The so-called bipartisan DACA deal presented yesterday to myself and a group of Republican Senat...\n",
       "Name: text, Length: 32810, dtype: object"
      ]
     },
     "execution_count": 133,
     "metadata": {},
     "output_type": "execute_result"
    }
   ],
   "source": [
    "df"
   ]
  },
  {
   "cell_type": "code",
   "execution_count": null,
   "metadata": {},
   "outputs": [],
   "source": []
  }
 ],
 "metadata": {
  "kernelspec": {
   "display_name": "Python 3",
   "language": "python",
   "name": "python3"
  },
  "language_info": {
   "codemirror_mode": {
    "name": "ipython",
    "version": 3
   },
   "file_extension": ".py",
   "mimetype": "text/x-python",
   "name": "python",
   "nbconvert_exporter": "python",
   "pygments_lexer": "ipython3",
   "version": "3.7.1"
  }
 },
 "nbformat": 4,
 "nbformat_minor": 2
}
